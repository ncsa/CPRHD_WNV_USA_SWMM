{
 "cells": [
  {
   "cell_type": "markdown",
   "metadata": {},
   "source": [
    "## Purpose:\n",
    "\n",
    "Try to process a simulation input file, keep the binary output file in memory, extract key variables, and then discard the memory.\n",
    "\n",
    "### Import"
   ]
  },
  {
   "cell_type": "code",
   "execution_count": 45,
   "metadata": {},
   "outputs": [],
   "source": [
    "import glob\n",
    "from pyswmm import Simulation\n",
    "import pandas as pd\n",
    "import os\n",
    "import subprocess\n",
    "from swmmtoolbox import swmmtoolbox\n",
    "\n",
    "from contextlib import redirect_stdout\n",
    "\n",
    "import warnings\n",
    "warnings.filterwarnings(\"ignore\", category=FutureWarning) # Since SWMMToolbox uses a deprecated function, supress the warning for it"
   ]
  },
  {
   "cell_type": "code",
   "execution_count": 46,
   "metadata": {},
   "outputs": [
    {
     "data": {
      "text/plain": [
       "['./simulation_files/delete_test/010010201001_rb_lid.inp',\n",
       " './simulation_files/delete_test/010010201001_rb.inp',\n",
       " './simulation_files/delete_test/010010201001_ng.inp',\n",
       " './simulation_files/delete_test/010010201001_rg.inp']"
      ]
     },
     "execution_count": 46,
     "metadata": {},
     "output_type": "execute_result"
    }
   ],
   "source": [
    "input_files = glob.glob('./simulation_files/delete_test/*.inp')\n",
    "input_files"
   ]
  },
  {
   "cell_type": "code",
   "execution_count": 56,
   "metadata": {},
   "outputs": [
    {
     "name": "stdout",
     "output_type": "stream",
     "text": [
      "29M\t./simulation_files/delete_test/010010201001_rb_lid.out\n",
      "\n",
      "55M\t./simulation_files/delete_test/010010201001_rb_lid.pkl\n",
      "\n"
     ]
    }
   ],
   "source": [
    "for file in input_files:\n",
    "    file_dir = file[:file.rfind('.')]  \n",
    "    \n",
    "    with redirect_stdout(open(os.devnull, 'w')):  # Redirect PySWMM stdout\n",
    "        sim = Simulation(file)\n",
    "        sim.execute()    \n",
    "    \n",
    "    os.remove(file_dir + '.rpt')  # Remove the report file\n",
    "    data = swmmtoolbox.extract(file_dir + '.out', *swmmtoolbox.catalog(file_dir + '.out'))\n",
    "    data.to_pickle(file_dir + '.pkl')    \n",
    "    \n",
    "    print(subprocess.check_output(['du', '-h', file_dir+'.out']).decode('UTF-8'))\n",
    "    print(subprocess.check_output(['du', '-h', file_dir+'.pkl']).decode('UTF-8'))\n",
    "    os.remove(file_dir + '.out')\n",
    "    break"
   ]
  },
  {
   "cell_type": "markdown",
   "metadata": {},
   "source": [
    "#### At around 10 variables extracted, the pickle file becomes larger than the output file, and it's no longer worth it to delete it."
   ]
  },
  {
   "cell_type": "code",
   "execution_count": null,
   "metadata": {},
   "outputs": [],
   "source": []
  }
 ],
 "metadata": {
  "kernelspec": {
   "display_name": "Python 3",
   "language": "python",
   "name": "python3"
  },
  "language_info": {
   "codemirror_mode": {
    "name": "ipython",
    "version": 3
   },
   "file_extension": ".py",
   "mimetype": "text/x-python",
   "name": "python",
   "nbconvert_exporter": "python",
   "pygments_lexer": "ipython3",
   "version": "3.7.5"
  }
 },
 "nbformat": 4,
 "nbformat_minor": 2
}
