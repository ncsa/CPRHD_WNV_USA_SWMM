{
 "cells": [
  {
   "cell_type": "markdown",
   "metadata": {},
   "source": [
    "# SWMM Hourly and Daily Precipitation Comparison\n",
    "\n",
    "In this notebook we will download the 3-hour and daily precipitation datasets from NARR, and then run simulations on both datasets. We will then compare their outputs.\n",
    "\n",
    "## 1) Imports"
   ]
  },
  {
   "cell_type": "code",
   "execution_count": 3,
   "metadata": {},
   "outputs": [
    {
     "name": "stdout",
     "output_type": "stream",
     "text": [
      "GDAL not found, please run 'conda install -c conda-forge gdal'.\n",
      "gdal_calc not found, please specify the path to this file in gdal_path above\n"
     ]
    }
   ],
   "source": [
    "import os\n",
    "import glob\n",
    "import numpy as np\n",
    "import pandas as pd\n",
    "import sys\n",
    "import calendar\n",
    "\n",
    "try:\n",
    "    import wget  # Downloading Data\n",
    "except:\n",
    "    print('wget not found. Please run \\'pip install wget\\'.')\n",
    "\n",
    "try:\n",
    "    from osgeo import gdal  # GDAL\n",
    "except:\n",
    "    print('GDAL not found, please run \\'conda install -c conda-forge gdal\\'.')\n",
    "    \n",
    "try: \n",
    "    import rasterio as rio  # Modifying Raster datasets\n",
    "except:\n",
    "    print('Rasterio not found, please run \\'pip install rasterio\\'.')\n",
    "     \n",
    "path_to_gdal_calc = '/home/matas/anaconda3/envs/swmm/bin/'\n",
    "sys.path.insert(0, path_to_gdal_calc)\n",
    "try:\n",
    "    import gdal_calc\n",
    "except:\n",
    "    print('gdal_calc not found, please specify the path to this file in gdal_path above')\n",
    "    \n",
    "try:\n",
    "    import rasterstats as rs\n",
    "except:\n",
    "    print('rasterstats not found, please install it with \\'pip install rasterstats\\'')\n",
    "    \n",
    "try:\n",
    "    import geopandas as gpd\n",
    "except:\n",
    "    print('geopands not found, please install it with \\'pip install geopandas\\'')\n",
    "    \n",
    "try:\n",
    "    import matplotlib.pyplot as plt\n",
    "except:\n",
    "    print('matplotlib not found, please install it with \\'pip install matplotlib\\'')"
   ]
  },
  {
   "cell_type": "markdown",
   "metadata": {},
   "source": [
    "## 2) Downloading the 3-Hour NetCDF Data for 2014"
   ]
  },
  {
   "cell_type": "code",
   "execution_count": null,
   "metadata": {},
   "outputs": [],
   "source": [
    "download_dir = './hourly_netcdf/'\n",
    "if not os.path.exists(download_dir):\n",
    "    os.mkdir(download_dir)"
   ]
  },
  {
   "cell_type": "code",
   "execution_count": null,
   "metadata": {},
   "outputs": [],
   "source": [
    "overwrite = False\n",
    "\n",
    "name = 'apcp.2014.nc'\n",
    "url = 'ftp://ftp.cdc.noaa.gov/Datasets/NARR/monolevel/'\n",
    "\n",
    "\n",
    "if not os.path.exists(download_dir + name) or overwrite:\n",
    "    print('Downloading', download_dir + name)\n",
    "    wget.download(url + name, download_dir + name)\n",
    "else:\n",
    "    print('File already exists, not downloading')"
   ]
  },
  {
   "cell_type": "markdown",
   "metadata": {},
   "source": [
    "## 3) Creating the Land Mask\n",
    "\n",
    "#### Download"
   ]
  },
  {
   "cell_type": "code",
   "execution_count": null,
   "metadata": {},
   "outputs": [],
   "source": [
    "if not os.path.exists('./land.nc'):\n",
    "    print('File not found, attempting download.')\n",
    "    download_url = 'ftp://ftp.cdc.noaa.gov/Datasets/NARR/time_invariant/land.nc'\n",
    "    wget.download(download_url, './land.nc')\n",
    "    \n",
    "mask_file = glob.glob('./land.nc')\n",
    "print('Successfully found land mask' if len(mask_file)==1 else 'Failed to find land mask')\n",
    "mask_file = mask_file[0]"
   ]
  },
  {
   "cell_type": "markdown",
   "metadata": {},
   "source": [
    "#### Projection\n",
    "\n",
    "We use the EPSG 5070 projection, which matches our block group shapefile."
   ]
  },
  {
   "cell_type": "code",
   "execution_count": null,
   "metadata": {},
   "outputs": [],
   "source": [
    "proj = '+proj=aea +lat_1=29.5 +lat_2=45.5 +lat_0=23 +lon_0=-96 +x_0=0 +y_0=0 +ellps=GRS80 +towgs84=1,1,-1,0,0,0,0 +units=m +no_defs'\n",
    "subdataset = 'land'\n",
    "output_file = './land_mask'\n",
    "\n",
    "warp_options = gdal.WarpOptions(options='-t_srs \\\"' + proj + '\\\" -of GTiff')\n",
    "ds = gdal.Warp(srcDSOrSrcDSTab='NETCDF:' + mask_file + ':' + subdataset, destNameOrDestDS=output_file + '.geotiff', options=warp_options)\n",
    "ds = None  # THIS IS VERY IMPORTANT\n",
    "print('Successfully Warped Land Mask (' + output_file + '.geotiff)')"
   ]
  },
  {
   "cell_type": "markdown",
   "metadata": {},
   "source": [
    "## 4) Land Mask Extension\n",
    "\n",
    "We will extend the land mask by one pixel in each direction if the target pixel has no data. This is because the land mask excludes some block groups due to poor resolution."
   ]
  },
  {
   "cell_type": "code",
   "execution_count": null,
   "metadata": {},
   "outputs": [],
   "source": [
    "raster = rio.open(output_file + '.geotiff')\n",
    "\n",
    "data = raster.read(1)\n",
    "\n",
    "rows = data.shape[0]\n",
    "cols = data.shape[1]\n",
    "nodata = 0\n",
    "\n",
    "data = np.ma.masked_equal(data,nodata)\n",
    "output_data = np.copy(data)\n",
    "\n",
    "for i in range(rows):\n",
    "    for j in range(cols):\n",
    "        if data.mask[i][j]:\n",
    "            try:\n",
    "                for x in range(-1,2):\n",
    "                    for y in range(-1,2):\n",
    "                        if not data.mask[i+x][j+y]:\n",
    "                            output_data[i][j] = data[i+x][j+y]\n",
    "            except IndexError:\n",
    "                pass\n",
    "\n",
    "with rio.open(output_file + '_extended.geotiff', 'w', **raster.profile) as dst:\n",
    "    dst.write(output_data, 1)    "
   ]
  },
  {
   "cell_type": "markdown",
   "metadata": {},
   "source": [
    "## 5) Converting NetCDF to GeoTIFF\n",
    "\n",
    "**Note that this process will take a few minutes as the NETCDF has a lot of bands**"
   ]
  },
  {
   "cell_type": "code",
   "execution_count": null,
   "metadata": {},
   "outputs": [],
   "source": [
    "netcdf = glob.glob('./hourly_netcdf/apcp.2014.nc')\n",
    "print('Found NETCDF file' if netcdf else 'NETCDF File not found')\n",
    "if not netcdf:\n",
    "    raise KeyboardInterrupt\n",
    "netcdf = netcdf[0]"
   ]
  },
  {
   "cell_type": "code",
   "execution_count": null,
   "metadata": {},
   "outputs": [],
   "source": [
    "overwrite = False  # Overwrite existing GeoTIFFs or not\n",
    "\n",
    "proj = '+proj=aea +lat_1=29.5 +lat_2=45.5 +lat_0=23 +lon_0=-96 +x_0=0 +y_0=0 +ellps=GRS80 +towgs84=1,1,-1,0,0,0,0 +units=m +no_defs'\n",
    "\n",
    "# The warp options specify our target projection and output type (GeoTIFF)\n",
    "warp_options = gdal.WarpOptions(options='-t_srs \\\"' + proj + '\\\" -of GTiff')\n",
    "subdataset = 'apcp'\n",
    "\n",
    "ds = gdal.Warp(srcDSOrSrcDSTab='NETCDF:' + netcdf + ':' + subdataset, destNameOrDestDS='./apcp.hourly.2014.geotiff', options=warp_options)\n",
    "ds = None # Flush the file cache\n",
    "print('Warped file ./apcp.hourly.2014.geotiff')"
   ]
  },
  {
   "cell_type": "markdown",
   "metadata": {},
   "source": [
    "## 6) Masking the Data\n",
    "\n",
    "#### Select the NetCDF and Land Mask"
   ]
  },
  {
   "cell_type": "code",
   "execution_count": null,
   "metadata": {},
   "outputs": [],
   "source": [
    "netcdf = glob.glob('./apcp.hourly.2014.geotiff')\n",
    "print('Found NETCDF file' if netcdf else 'NETCDF File not found')\n",
    "\n",
    "mask_file = glob.glob('./land_mask_extended.geotiff')\n",
    "print('Found Mask file' if mask_file else 'Mask file not found')\n",
    "\n",
    "if not mask_file or not netcdf:\n",
    "    print('Error! One or more required files not found.')\n",
    "    raise KeyboardInterrupt\n",
    "    \n",
    "netcdf = netcdf[0]\n",
    "mask_file = mask_file[0]"
   ]
  },
  {
   "cell_type": "markdown",
   "metadata": {},
   "source": [
    "#### Mask Each Band\n",
    "\n",
    "Note that this will take a while as there are 2920 bands!"
   ]
  },
  {
   "cell_type": "code",
   "execution_count": null,
   "metadata": {},
   "outputs": [],
   "source": [
    "overwrite = False\n",
    "\n",
    "output_directory = './hourly_masked_geotiffs/'\n",
    "if not os.path.exists(output_directory):\n",
    "    print('Making', output_directory)\n",
    "    os.mkdir(output_directory)\n",
    "    \n",
    "raster = gdal.Open(netcdf)\n",
    "band_count = raster.RasterCount\n",
    "\n",
    "for band in range(1, band_count+1):\n",
    "    print(str(band))\n",
    "    outfile = output_directory + str(band) + '.geotiff'\n",
    "    if not os.path.exists(outfile) or overwrite:\n",
    "        gdal_calc.Calc('A*B', A=netcdf, B=mask_file, A_band=band, outfile=outfile, format='GTiff', NoDataValue=-9999.0)"
   ]
  },
  {
   "cell_type": "markdown",
   "metadata": {},
   "source": [
    "## 7) Extracting the Data\n",
    "\n",
    "The shape file california_chicago.gpkg is a modified version of the SelectBG_all_land_BGID_final shapefile and contains only two block groups. It can be found on the [GitHub repository](https://github.com/ncsa/CPRHD_WNV_USA_SWMM) in this Jupyter Notebook's folder."
   ]
  },
  {
   "cell_type": "code",
   "execution_count": null,
   "metadata": {},
   "outputs": [],
   "source": [
    "shape_file = './chicago_california_shape_file/california_chicago.gpkg'\n",
    "geotiffs = glob.glob('./hourly_masked_geotiffs/*.geotiff')\n",
    "if not shape_file or len(geotiffs) != 2920:\n",
    "    print('Failed to find one or more files!')\n",
    "    raise KeyboardInterrupt\n",
    "else:\n",
    "    print('Found all files successfully')\n",
    "    \n",
    "geotiffs.sort()"
   ]
  },
  {
   "cell_type": "markdown",
   "metadata": {},
   "source": [
    "##### FIPS Code Conversion\n",
    "\n",
    "We will import a function used to convert GEOID10 to the State, County names\n",
    "\n",
    "Note that this function requires 'US_FIPS_Codes.csv' to be in the Jupyter Notebook directory. It can be found on the [GitHub repository](https://github.com/ncsa/CPRHD_WNV_USA_SWMM) along with the fips_converter file."
   ]
  },
  {
   "cell_type": "code",
   "execution_count": null,
   "metadata": {},
   "outputs": [],
   "source": [
    "path = '../../'\n",
    "sys.path.insert(0,path)\n",
    "from fips_converter import fips_conversion"
   ]
  },
  {
   "cell_type": "code",
   "execution_count": null,
   "metadata": {},
   "outputs": [],
   "source": [
    "def state_name(code):\n",
    "    return fips_conversion(code)[0]"
   ]
  },
  {
   "cell_type": "code",
   "execution_count": null,
   "metadata": {},
   "outputs": [],
   "source": [
    "proj = '+proj=aea +lat_1=29.5 +lat_2=45.5 +lat_0=23 +lon_0=-96 +x_0=0 +y_0=0 +ellps=GRS80 +towgs84=1,1,-1,0,0,0,0 +units=m +no_defs'\n",
    "shape_frame = gpd.read_file(shape_file)\n",
    "shape_frame['GEOID10'] = shape_frame['GEOID10'].astype(str)\n",
    "\n",
    "name = (geotiffs[0])[geotiffs[0].rfind('/')+1:geotiffs[0].rfind('.')]\n",
    "\n",
    "output_columns = ['mean']\n",
    "stats = rs.zonal_stats(shape_frame, geotiffs[0], stats=output_columns, all_touched=True)\n",
    "frame = pd.DataFrame.from_dict(stats)\n",
    "frame = frame.join(shape_frame['GEOID10'])\n",
    "frame['NAME'] = frame['GEOID10'].apply(state_name)\n",
    "frame = frame[['NAME', 'GEOID10', 'mean']]\n",
    "\n",
    "columns = frame.columns.values\n",
    "columns[2] = name\n",
    "frame.columns = columns\n",
    "\n",
    "# print(frame)\n",
    "\n",
    "for file in geotiffs[1:]:\n",
    "    name = file[file.rfind('/')+1:file.rfind('.')]\n",
    "    stats = rs.zonal_stats(shape_frame, file, stats=output_columns, all_touched=True)\n",
    "    subframe = pd.DataFrame.from_dict(stats)\n",
    "    \n",
    "    columns = subframe.columns.values\n",
    "    columns[0] = name\n",
    "    subframe.columns = columns\n",
    "    frame = frame.join(subframe)\n",
    "    \n",
    "frame.to_pickle('./all_data.pkl')"
   ]
  },
  {
   "cell_type": "markdown",
   "metadata": {},
   "source": [
    "## 8) Unit Conversion\n",
    "\n",
    "We will convert NARR's units (mm) to the units we use in SWMM (inches)."
   ]
  },
  {
   "cell_type": "code",
   "execution_count": null,
   "metadata": {},
   "outputs": [],
   "source": [
    "frame = pd.read_pickle('./all_data.pkl')\n",
    "frame"
   ]
  },
  {
   "cell_type": "code",
   "execution_count": null,
   "metadata": {},
   "outputs": [],
   "source": [
    "chicago_mm = frame.iloc[1][2:]\n",
    "california_mm = frame.iloc[0][2:]\n",
    "\n",
    "chicago = frame.iloc[1][2:].apply(lambda x: x / 25.40)  # 1 inch = 25.40 mm\n",
    "california = frame.iloc[0][2:].apply(lambda x: x / 25.40)"
   ]
  },
  {
   "cell_type": "code",
   "execution_count": null,
   "metadata": {},
   "outputs": [],
   "source": [
    "print(chicago_mm.max(), 'mm --', chicago.max(), 'inches')"
   ]
  },
  {
   "cell_type": "code",
   "execution_count": null,
   "metadata": {},
   "outputs": [],
   "source": [
    "print(california_mm.max(), 'mm --', california.max(), 'inches')"
   ]
  },
  {
   "cell_type": "markdown",
   "metadata": {},
   "source": [
    "#### Save the Data"
   ]
  },
  {
   "cell_type": "code",
   "execution_count": null,
   "metadata": {},
   "outputs": [],
   "source": [
    "output_directory = './extracted_data/'\n",
    "if not os.path.exists(output_directory):\n",
    "    print('Making', output_directory)\n",
    "    os.mkdir(output_directory)\n",
    "\n",
    "chicago.to_pickle(output_directory + 'chicago.pkl')\n",
    "california.to_pickle(output_directory + 'california.pkl')"
   ]
  },
  {
   "cell_type": "markdown",
   "metadata": {},
   "source": [
    " ## 9) Converting the Data to .CSV\n",
    " \n",
    " We need to convert the data to .csv in order to use it for input file generation."
   ]
  },
  {
   "cell_type": "markdown",
   "metadata": {},
   "source": [
    "#### Load Data"
   ]
  },
  {
   "cell_type": "code",
   "execution_count": null,
   "metadata": {},
   "outputs": [],
   "source": [
    "dir = './extracted_data/'\n",
    "chicago = pd.read_pickle(dir + 'chicago.pkl')\n",
    "california = pd.read_pickle(dir + 'california.pkl')"
   ]
  },
  {
   "cell_type": "markdown",
   "metadata": {},
   "source": [
    "#### Sort the index of the frame (1, 2, 3, ... , 2919, 2920)"
   ]
  },
  {
   "cell_type": "code",
   "execution_count": null,
   "metadata": {},
   "outputs": [],
   "source": [
    "chicago.index = chicago.index.astype(int)\n",
    "chicago = chicago.sort_index()\n",
    "\n",
    "california.index = california.index.astype(int)\n",
    "california = california.sort_index()\n"
   ]
  },
  {
   "cell_type": "markdown",
   "metadata": {},
   "source": [
    "#### Save Data to CSV"
   ]
  },
  {
   "cell_type": "code",
   "execution_count": null,
   "metadata": {},
   "outputs": [],
   "source": [
    "chicago.to_csv(dir + 'chicago.csv')\n",
    "california.to_csv(dir + 'california.csv')"
   ]
  },
  {
   "cell_type": "markdown",
   "metadata": {},
   "source": [
    "# Daily Data Processing\n",
    "\n",
    "We will repeat the above process with the daily NetCDF for 2014."
   ]
  },
  {
   "cell_type": "markdown",
   "metadata": {},
   "source": [
    "## 1) Download Data"
   ]
  },
  {
   "cell_type": "code",
   "execution_count": null,
   "metadata": {},
   "outputs": [],
   "source": [
    "download_dir = './daily_netcdf/'\n",
    "if not os.path.exists(download_dir):\n",
    "    print('Making', download_dir)\n",
    "    os.mkdir(download_dir)"
   ]
  },
  {
   "cell_type": "code",
   "execution_count": null,
   "metadata": {},
   "outputs": [],
   "source": [
    "download_url = 'ftp://ftp.cdc.noaa.gov/Datasets/NARR/Dailies/monolevel/'\n",
    "name = 'apcp.2014.nc'\n",
    "\n",
    "if not os.path.exists(download_dir + name):\n",
    "    print('NetCDF file not found, attempting download')\n",
    "    wget.download(download_url+name, download_dir + name)\n",
    "    print('Download completed')"
   ]
  },
  {
   "cell_type": "markdown",
   "metadata": {},
   "source": [
    "## 2) Convert the NetCDF to GeoTIFF"
   ]
  },
  {
   "cell_type": "code",
   "execution_count": null,
   "metadata": {},
   "outputs": [],
   "source": [
    "netcdf = glob.glob('./daily_netcdf/apcp.2014.nc')\n",
    "print('Found NETCDF file' if netcdf else 'NETCDF File not found')\n",
    "if not netcdf:\n",
    "    raise KeyboardInterrupt\n",
    "netcdf = netcdf[0]"
   ]
  },
  {
   "cell_type": "code",
   "execution_count": null,
   "metadata": {},
   "outputs": [],
   "source": [
    "overwrite = False  # Overwrite existing GeoTIFF or not\n",
    "\n",
    "proj = '+proj=aea +lat_1=29.5 +lat_2=45.5 +lat_0=23 +lon_0=-96 +x_0=0 +y_0=0 +ellps=GRS80 +towgs84=1,1,-1,0,0,0,0 +units=m +no_defs'\n",
    "\n",
    "# The warp options specify our target projection and output type (GeoTIFF)\n",
    "warp_options = gdal.WarpOptions(options='-t_srs \\\"' + proj + '\\\" -of GTiff')\n",
    "subdataset = 'apcp'\n",
    "if not os.path.exists('./apcp.daily.2014.geotiff') or overwrite:\n",
    "    ds = gdal.Warp(srcDSOrSrcDSTab='NETCDF:' + netcdf + ':' + subdataset, destNameOrDestDS='./apcp.daily.2014.geotiff', options=warp_options)\n",
    "    ds = None # Flush the file cache\n",
    "    print('Warped file ./apcp.daliy.2014.geotiff')"
   ]
  },
  {
   "cell_type": "markdown",
   "metadata": {},
   "source": [
    "## 3) Masking each GeoTIFF"
   ]
  },
  {
   "cell_type": "code",
   "execution_count": null,
   "metadata": {},
   "outputs": [],
   "source": [
    "netcdf = glob.glob('./apcp.daily.2014.geotiff')\n",
    "print('Found NETCDF file' if netcdf else 'NETCDF File not found')\n",
    "if not netcdf:\n",
    "    raise KeyboardInterrupt\n",
    "netcdf = netcdf[0]\n",
    "\n",
    "mask_file = glob.glob('./land_mask_extended.geotiff')\n",
    "print('Found mask file' if mask_file else 'Mask file not found')\n",
    "if not mask_file:\n",
    "    raise KeyboardInterrupt\n",
    "mask_file = mask_file[0]"
   ]
  },
  {
   "cell_type": "code",
   "execution_count": null,
   "metadata": {},
   "outputs": [],
   "source": [
    "overwrite = False\n",
    "\n",
    "output_directory = './daily_masked_geotiffs/'\n",
    "if not os.path.exists(output_directory):\n",
    "    print('Making', output_directory)\n",
    "    os.mkdir(output_directory)\n",
    "    \n",
    "raster = gdal.Open(netcdf)\n",
    "band_count = raster.RasterCount\n",
    "print(netcdf)\n",
    "for band in range(1, band_count+1):\n",
    "    outfile = output_directory + str(band) + '.geotiff'\n",
    "    if not os.path.exists(outfile) or overwrite:\n",
    "        gdal_calc.Calc('A*B', A=netcdf, B=mask_file, A_band=band, outfile=outfile, format='GTiff', NoDataValue=-9999.0)"
   ]
  },
  {
   "cell_type": "markdown",
   "metadata": {},
   "source": [
    "## 4) Zonal Stats Data Extraction"
   ]
  },
  {
   "cell_type": "code",
   "execution_count": null,
   "metadata": {},
   "outputs": [],
   "source": [
    "geotiffs = glob.glob('./daily_masked_geotiffs/*.geotiff')\n",
    "if len(geotiffs) != 365:\n",
    "    print('Failed to find all GeoTIFFs.')\n",
    "    raise KeyboardInterrupt\n",
    "else:\n",
    "    print('Found all GeoTIFF files')"
   ]
  },
  {
   "cell_type": "code",
   "execution_count": null,
   "metadata": {},
   "outputs": [],
   "source": [
    "shape_file = './chicago_california_shape_file/california_chicago.gpkg'\n",
    "if not os.path.exists(shape_file):\n",
    "    print('Failed to find shape file')\n",
    "    raise KeyboardInterrupt\n",
    "else:\n",
    "    print('Found shape file')"
   ]
  },
  {
   "cell_type": "markdown",
   "metadata": {},
   "source": [
    "##### FIPS Code Conversion\n",
    "\n",
    "We will import a function used to convert GEOID10 to the State, County names\n",
    "\n",
    "Note that this function requires 'US_FIPS_Codes.csv' to be in the Jupyter Notebook directory. It can be found on the [GitHub repository](https://github.com/ncsa/CPRHD_WNV_USA_SWMM) along with the fips_converter file."
   ]
  },
  {
   "cell_type": "code",
   "execution_count": null,
   "metadata": {},
   "outputs": [],
   "source": [
    "path = '../../'\n",
    "sys.path.insert(0,path)\n",
    "from fips_converter import fips_conversion"
   ]
  },
  {
   "cell_type": "code",
   "execution_count": null,
   "metadata": {},
   "outputs": [],
   "source": [
    "def state_name(code):\n",
    "    return fips_conversion(code)[0]"
   ]
  },
  {
   "cell_type": "code",
   "execution_count": null,
   "metadata": {},
   "outputs": [],
   "source": [
    "output_directory = './daily_extracted_data/'\n",
    "if not os.path.exists(output_directory):\n",
    "    print('Making', output_directory)\n",
    "    os.mkdir(output_directory)"
   ]
  },
  {
   "cell_type": "code",
   "execution_count": null,
   "metadata": {},
   "outputs": [],
   "source": [
    "shape_frame = gpd.read_file(shape_file)\n",
    "shape_frame['GEOID10'] = shape_frame['GEOID10'].astype(str)\n",
    "\n",
    "# Set up the frame with the first file (we will join the other files onto this one)\n",
    "name = (geotiffs[0])[geotiffs[0].rfind('/')+1:geotiffs[0].rfind('.')]\n",
    "\n",
    "output_columns = ['mean']\n",
    "stats = rs.zonal_stats(shape_frame, geotiffs[0], stats=output_columns, all_touched=True)\n",
    "frame = pd.DataFrame.from_dict(stats)\n",
    "frame = frame.join(shape_frame['GEOID10'])\n",
    "frame['NAME'] = frame['GEOID10'].apply(state_name)\n",
    "frame = frame[['NAME', 'GEOID10', 'mean']]\n",
    "\n",
    "columns = frame.columns.values\n",
    "columns[2] = name\n",
    "frame.columns = columns\n",
    "\n",
    "for file in geotiffs[1:]:\n",
    "    name = file[file.rfind('/')+1:file.rfind('.')]\n",
    "    stats = rs.zonal_stats(shape_frame, file, stats=output_columns, all_touched=True)\n",
    "    subframe = pd.DataFrame.from_dict(stats)\n",
    "    \n",
    "    columns = subframe.columns.values\n",
    "    columns[0] = name\n",
    "    subframe.columns = columns\n",
    "    frame = frame.join(subframe)\n",
    "    \n",
    "    \n",
    "california=frame.iloc[0][2:].apply(lambda x: x / 25.40)\n",
    "california.index = california.index.astype(int)\n",
    "california = california.sort_index()\n",
    "\n",
    "chicago = frame.iloc[1][2:].apply(lambda x: x / 25.40)\n",
    "chicago.index = chicago.index.astype(int)\n",
    "chicago = chicago.sort_index()\n",
    "\n",
    "california.to_pickle(output_directory + 'california.pkl')\n",
    "chicago.to_pickle(output_directory + 'chicago.pkl')\n",
    "frame.to_pickle('./daily_data.pkl')"
   ]
  },
  {
   "cell_type": "markdown",
   "metadata": {},
   "source": [
    "# Plots for Hourly and Daily Data"
   ]
  },
  {
   "cell_type": "markdown",
   "metadata": {},
   "source": [
    "## Hourly Data\n",
    "#### California"
   ]
  },
  {
   "cell_type": "code",
   "execution_count": null,
   "metadata": {},
   "outputs": [],
   "source": [
    "date = [i for i in range(2920)]\n",
    "xticks = [0,31,59,90,120,151,181,212,243,273,304,334]\n",
    "xticks = [i * 8 for i in xticks]"
   ]
  },
  {
   "cell_type": "code",
   "execution_count": null,
   "metadata": {},
   "outputs": [],
   "source": [
    "cali_data = pd.read_pickle('./hourly_extracted_data/california.pkl')\n",
    "data = cali_data.to_numpy()\n",
    "\n",
    "plt.figure(figsize=(8,8))\n",
    "plt.title('California - 060375508003 - APCP 2014 - 3 Hour Accumulation')\n",
    "width = 2.5\n",
    "\n",
    "plt.bar(date, data, width)\n",
    "\n",
    "plt.ylabel('Total Accumulated Precipitation (inches)')\n",
    "plt.xticks(xticks, calendar.month_name[1:13], rotation=-90)\n",
    "plt.savefig('./plots/california_inches_apcp_3hr.svg')"
   ]
  },
  {
   "cell_type": "markdown",
   "metadata": {},
   "source": [
    "#### Chicago"
   ]
  },
  {
   "cell_type": "code",
   "execution_count": null,
   "metadata": {},
   "outputs": [],
   "source": [
    "chicago_data = pd.read_pickle('./hourly_extracted_data/chicago.pkl')\n",
    "data = chicago_data.to_numpy()\n",
    "\n",
    "plt.figure(figsize=(8,8))\n",
    "plt.title('Chicago - 170319800001 - APCP 2014 - 3 Hour Accumulation')\n",
    "width = 2.5\n",
    "\n",
    "plt.bar(date, data, width)\n",
    "\n",
    "plt.ylabel('Total Accumulated Precipitation (inches)')\n",
    "plt.xticks(xticks, calendar.month_name[1:13], rotation=-90)\n",
    "plt.savefig('./plots/chicago_inches_apcp_3hr.svg')"
   ]
  },
  {
   "cell_type": "markdown",
   "metadata": {},
   "source": [
    "## Daily Data \n",
    "#### California"
   ]
  },
  {
   "cell_type": "code",
   "execution_count": null,
   "metadata": {},
   "outputs": [],
   "source": [
    "date = [i for i in range(1,366)]\n",
    "xticks = [0,31,59,90,120,151,181,212,243,273,304,334]"
   ]
  },
  {
   "cell_type": "code",
   "execution_count": null,
   "metadata": {},
   "outputs": [],
   "source": [
    "cali_data = pd.read_pickle('./daily_extracted_data/california.pkl')\n",
    "data = cali_data.to_numpy()\n",
    "\n",
    "plt.figure(figsize=(8,8))\n",
    "plt.title('California - 060375508003 - APCP 2014 - Daily Accumulation')\n",
    "width = 1.0\n",
    "\n",
    "plt.bar(date, data, width)\n",
    "\n",
    "plt.ylabel('Total Accumulated Precipitation (inches)')\n",
    "plt.xticks(xticks, calendar.month_name[1:13], rotation=-90)\n",
    "plt.savefig('./plots/california_inches_apcp_daily.svg')"
   ]
  },
  {
   "cell_type": "markdown",
   "metadata": {},
   "source": [
    "#### Chicago"
   ]
  },
  {
   "cell_type": "code",
   "execution_count": null,
   "metadata": {},
   "outputs": [],
   "source": [
    "chicago_data = pd.read_pickle('./daily_extracted_data/chicago.pkl')\n",
    "data = chicago_data.to_numpy()\n",
    "\n",
    "plt.figure(figsize=(8,8))\n",
    "plt.title('Chicago - 170319800001 - APCP 2014 - Daily Accumulation')\n",
    "width = 1.0\n",
    "\n",
    "plt.bar(date, data, width)\n",
    "\n",
    "plt.ylabel('Total Accumulated Precipitation (inches)')\n",
    "plt.xticks(xticks, calendar.month_name[1:13], rotation=-90)\n",
    "plt.savefig('./plots/chicago_inches_apcp_daily.svg')"
   ]
  },
  {
   "cell_type": "markdown",
   "metadata": {},
   "source": [
    "# Data Validation\n",
    "\n",
    "Ideally, the 3-hour accumulation data should sum across each day and be equal to the daily accumulation data. We will check if this is the case."
   ]
  },
  {
   "cell_type": "code",
   "execution_count": null,
   "metadata": {},
   "outputs": [],
   "source": [
    "for bg in ['california', 'chicago']:\n",
    "#     for time in ['hourly', 'daily']:\n",
    "    print(bg)\n",
    "\n",
    "    hourly = pd.read_pickle('./hourly_extracted_data/' + bg + '.pkl')\n",
    "    hourly_summed = hourly.groupby(hourly.index // 8).sum()\n",
    "    \n",
    "    daily = pd.read_pickle('./daily_extracted_data/' + bg + '.pkl')\n",
    "    \n",
    "    \n",
    "    print('Total Daily Precipitation:', daily.sum().iloc[0])\n",
    "    print('Total Hourly Precipitation:', hourly.sum().iloc[0])\n",
    "    diff = daily - hourly_summed\n",
    "    \n",
    "    print('Mean:', diff.mean().iloc[0])\n",
    "    print('Max:', diff.max().iloc[0])\n",
    "    print('Min:', diff.min().iloc[0])\n",
    "    diff = diff.to_numpy().flatten()\n",
    "    \n",
    "\n",
    "    \n",
    "\n",
    "    overwrite = False\n",
    "    plt.figure(figsize=(8,8))\n",
    "    if bg is 'chicago':\n",
    "        plt.title('Chicago - 170319800001 - Difference Between Hourly and Daily NARR Data', y=1.04)\n",
    "    else:\n",
    "        plt.title('California - 060375508003 - Difference Between Hourly and Daily NARR Data', y=1.04)\n",
    "   \n",
    "    date = [i for i in range(365)]\n",
    "    xticks = [0,31,59,90,120,151,181,212,243,273,304,334]\n",
    "    \n",
    "    width = 1.0\n",
    "    plt.bar(date, diff, width)\n",
    "    plt.ylabel('Difference in Accumulated Precipitation (inches)')\n",
    "    plt.xticks(xticks, calendar.month_name[1:13], rotation=-90)\n",
    "    plt.tight_layout()\n",
    "    \n",
    "    outfile = './plots/' + bg + '_difference.svg'\n",
    "    if not os.path.exists(outfile) or overwrite:\n",
    "        print('Creating/overwriting', outfile)\n",
    "        plt.savefig(outfile, dpi=900)\n",
    "    \n",
    "\n",
    "        \n",
    "            \n"
   ]
  },
  {
   "cell_type": "markdown",
   "metadata": {},
   "source": [
    "# Formatting the Timeseries Data\n",
    "We will format the timeseries precipitation data so it can be copy/pasted into a premade Chicago / California input file.\n",
    "\n",
    "SWMM Timeseries Format:\n",
    "\n",
    "[TIMESERIES]\n",
    "\n",
    "Name    Date    Time   Value\n",
    "\n",
    "\n",
    "## Hourly Data"
   ]
  },
  {
   "cell_type": "code",
   "execution_count": null,
   "metadata": {},
   "outputs": [],
   "source": [
    "for bg in ['chicago', 'california']:    \n",
    "    timeseries_name = 'NARR_3HR'\n",
    "\n",
    "    frame = pd.read_pickle('./hourly_extracted_data/' + bg + '.pkl').to_frame()\n",
    "    \n",
    "    date_rng = pd.date_range(start='1/1/2014', end='1/1/2015', freq='3H')\n",
    "    date_rng = date_rng[:-1]  # Exclude 1/1/2015 00:00:00\n",
    "#     date_rng = date_rng.strftime('%m/%d/%Y')\n",
    "#     frame = frame.set_index(date_rng, drop=True)\n",
    "    frame['date'] = date_rng.strftime('%m/%d/%Y')\n",
    "    frame['time'] = date_rng.time.astype(str)\n",
    "    frame['name'] = timeseries_name\n",
    "    if bg == 'chicago':\n",
    "        frame = frame[['name', 'date', 'time', 1]]\n",
    "    else:\n",
    "        frame = frame[['name', 'date', 'time', 0]]\n",
    "    data = frame.to_numpy()\n",
    "\n",
    "    np.savetxt('./hourly_extracted_data/' + bg + '_timeseries.txt', data, delimiter='\\t', fmt='%s')\n",
    "    \n",
    "    \n"
   ]
  },
  {
   "cell_type": "markdown",
   "metadata": {},
   "source": [
    "## Daily Data"
   ]
  },
  {
   "cell_type": "code",
   "execution_count": null,
   "metadata": {},
   "outputs": [],
   "source": [
    "for bg in ['chicago', 'california']:    \n",
    "    timeseries_name = 'NARR_DAILY'\n",
    "\n",
    "    frame = pd.read_pickle('./daily_extracted_data/' + bg + '.pkl').to_frame()\n",
    "    \n",
    "    date_rng = pd.date_range(start='1/1/2014', end='1/1/2015', freq='1D')\n",
    "    date_rng = date_rng[:-1]  # Exclude 1/1/2015\n",
    "    \n",
    "    frame['date'] = date_rng.strftime('%m/%d/%Y')\n",
    "    frame['time'] = '00:00:00'\n",
    "    frame['name'] = timeseries_name\n",
    "    frame = frame[['name', 'date', 'time', frame.columns[0]]]\n",
    "    print(frame)\n",
    "    data = frame.to_numpy()\n",
    "\n",
    "\n",
    "    np.savetxt('./daily_extracted_data/' + bg + '_timeseries.txt', data, delimiter='\\t', fmt='%s')"
   ]
  },
  {
   "cell_type": "markdown",
   "metadata": {},
   "source": [
    "# Creating the Input File\n",
    "\n",
    "We will create input files for the No Green Infrastructure scenario for both Chicago (170319800001) and California (060375508003).\n",
    "\n",
    "The code is already created in create_input_file.py in the root of this repository."
   ]
  },
  {
   "cell_type": "code",
   "execution_count": null,
   "metadata": {},
   "outputs": [],
   "source": [
    "# TODO"
   ]
  },
  {
   "cell_type": "markdown",
   "metadata": {},
   "source": [
    "# Running the Simulation"
   ]
  },
  {
   "cell_type": "code",
   "execution_count": null,
   "metadata": {},
   "outputs": [],
   "source": [
    "input_files = glob.glob('./swmm_analysis/simulation_files/*.inp')\n",
    "for file in input_files:\n",
    "    sim = Simulation(file)\n",
    "    sim.execute()"
   ]
  },
  {
   "cell_type": "markdown",
   "metadata": {},
   "source": [
    "# Extracting the Data\n"
   ]
  },
  {
   "cell_type": "code",
   "execution_count": 2,
   "metadata": {},
   "outputs": [],
   "source": [
    "from swmmtoolbox import swmmtoolbox\n",
    "import glob\n",
    "import calendar\n",
    "import matplotlib.pyplot as plt"
   ]
  },
  {
   "cell_type": "code",
   "execution_count": null,
   "metadata": {},
   "outputs": [],
   "source": [
    "for bg in ['chicago', 'california']:\n",
    "    for sim_type in ['3hr', 'daily', 'PRISM']:\n",
    "        \n",
    "        # For fixing the Runoff data (divide by subcatch area)\n",
    "        if bg is 'chicago':\n",
    "            area = 4933.82198249943\n",
    "        else:\n",
    "            area = 67.3855335000138\n",
    "        \n",
    "        output_file = glob.glob('./swmm_analysis/simulation_files/' + bg + '/*' + sim_type + '.out')[0]\n",
    "#         extract_vars = swmmtoolbox.catalog(output_file)\n",
    "#         extract_vars = list(filter(lambda x: x[0] == 'system', extract_vars))\n",
    "#         print(extract_vars)\n",
    "        extract_vars = [['system', 'Rainfall', 'Rainfall'],['system','Runoff','Runoff'],['system','Evaporation_infiltration','Evaporation_infiltration']]\n",
    "        data = swmmtoolbox.extract(output_file, *extract_vars)\n",
    "        \n",
    "        data['system__Runoff'] = data['system__Runoff'].apply(lambda x: x / area)\n",
    "        \n",
    "        data.to_pickle('./swmm_analysis/extracted_simulation_data/' + bg + '_' + sim_type + '.pkl')\n",
    "        data.to_csv('./swmm_analysis/extracted_simulation_data/' + bg + '_' + sim_type + '.csv')"
   ]
  },
  {
   "cell_type": "markdown",
   "metadata": {},
   "source": [
    "## Data Comparison - Plots\n",
    "\n",
    "We will compare the 3 hour data to the daily data"
   ]
  },
  {
   "cell_type": "code",
   "execution_count": 4,
   "metadata": {},
   "outputs": [
    {
     "name": "stdout",
     "output_type": "stream",
     "text": [
      "chicago\n",
      "./swmm_analysis/plots/combined_plots/chicago_system__Rainfall.svg\n"
     ]
    },
    {
     "data": {
      "image/png": "[encoded data removed]",
      "text/plain": [
       "<Figure size 1440x576 with 3 Axes>"
      ]
     },
     "metadata": {
      "needs_background": "light"
     },
     "output_type": "display_data"
    },
    {
     "name": "stdout",
     "output_type": "stream",
     "text": [
      "./swmm_analysis/plots/combined_plots/chicago_system__Evaporation_infiltration.svg\n"
     ]
    },
    {
     "data": {
      "image/png": "[encoded data removed]",
      "text/plain": [
       "<Figure size 1440x576 with 3 Axes>"
      ]
     },
     "metadata": {
      "needs_background": "light"
     },
     "output_type": "display_data"
    },
    {
     "name": "stdout",
     "output_type": "stream",
     "text": [
      "./swmm_analysis/plots/combined_plots/chicago_system__Runoff.svg\n"
     ]
    },
    {
     "data": {
      "image/png": "[encoded data removed]",
      "text/plain": [
       "<Figure size 1440x576 with 3 Axes>"
      ]
     },
     "metadata": {
      "needs_background": "light"
     },
     "output_type": "display_data"
    },
    {
     "name": "stdout",
     "output_type": "stream",
     "text": [
      "california\n",
      "./swmm_analysis/plots/combined_plots/california_system__Rainfall.svg\n"
     ]
    },
    {
     "data": {
      "image/png": "[encoded data removed]",
      "text/plain": [
       "<Figure size 1440x576 with 3 Axes>"
      ]
     },
     "metadata": {
      "needs_background": "light"
     },
     "output_type": "display_data"
    },
    {
     "name": "stdout",
     "output_type": "stream",
     "text": [
      "./swmm_analysis/plots/combined_plots/california_system__Evaporation_infiltration.svg\n"
     ]
    },
    {
     "data": {
      "image/png": "[encoded data removed]",
      "text/plain": [
       "<Figure size 1440x576 with 3 Axes>"
      ]
     },
     "metadata": {
      "needs_background": "light"
     },
     "output_type": "display_data"
    },
    {
     "name": "stdout",
     "output_type": "stream",
     "text": [
      "./swmm_analysis/plots/combined_plots/california_system__Runoff.svg\n"
     ]
    },
    {
     "data": {
      "image/png": "[encoded data removed]",
      "text/plain": [
       "<Figure size 1440x576 with 3 Axes>"
      ]
     },
     "metadata": {
      "needs_background": "light"
     },
     "output_type": "display_data"
    }
   ],
   "source": [
    "for bg in ['chicago', 'california']:    \n",
    "    print(bg)\n",
    "    name = bg[0].upper() + bg[1:]\n",
    "    hour = pd.read_pickle('./swmm_analysis/extracted_simulation_data/' + bg + '_3hr.pkl').resample('d').sum()\n",
    "    daily = pd.read_pickle('./swmm_analysis/extracted_simulation_data/' + bg + '_daily.pkl').resample('d').sum()\n",
    "    prism = pd.read_pickle('./swmm_analysis/extracted_simulation_data/' + bg + '_PRISM.pkl').resample('d').sum()\n",
    "    \n",
    "    date = [i for i in range(365)]\n",
    "    \n",
    "    \n",
    "    for data in ['system__Rainfall', 'system__Evaporation_infiltration', 'system__Runoff']:\n",
    "        width = 1.0\n",
    "        data_name = data[8:]\n",
    "        \n",
    "        fig, axes = plt.subplots(nrows=1, ncols=3, figsize=(20, 8))\n",
    "\n",
    "        fig.suptitle(name, fontsize=18)\n",
    "\n",
    "        axes[0].set_title('3 Hour')\n",
    "        axes[0].bar(date, hour[data], width, label=data_name)\n",
    "        axes[0].set_xticks([0,31,59,90,120,151,181,212,243,273,304,334])\n",
    "        axes[0].set_xticklabels(calendar.month_name[1:13], rotation=-90)\n",
    "        axes[0].legend()\n",
    "\n",
    "        axes[1].set_title('Daily')\n",
    "        axes[1].bar(date, daily[data], width, label=data_name)\n",
    "        axes[1].set_xticks([0,31,59,90,120,151,181,212,243,273,304,334])\n",
    "        axes[1].set_xticklabels(calendar.month_name[1:13], rotation=-90)\n",
    "        axes[1].legend()\n",
    "        \n",
    "        axes[2].set_title('Prism')\n",
    "        axes[2].bar(date, prism[data], width, label=data_name)\n",
    "        axes[2].set_xticks([0,31,59,90,120,151,181,212,243,273,304,334])\n",
    "        axes[2].set_xticklabels(calendar.month_name[1:13], rotation=-90)\n",
    "        axes[2].legend()\n",
    "    \n",
    "        outfile = './swmm_analysis/plots/combined_plots/' + bg + '_' + data + '.svg'\n",
    "        print(outfile)\n",
    "        \n",
    "        plt.autoscale()\n",
    "        plt.savefig(outfile)\n",
    "        plt.show()\n",
    "        \n",
    "    "
   ]
  },
  {
   "cell_type": "markdown",
   "metadata": {},
   "source": [
    "# Plotting Difference\n",
    "\n",
    "We will plot the difference between hourly and daily simulation data for each variable (Rainfall, Runoff, Infiltatration/Evaporation)."
   ]
  },
  {
   "cell_type": "code",
   "execution_count": 5,
   "metadata": {},
   "outputs": [
    {
     "name": "stdout",
     "output_type": "stream",
     "text": [
      "chicago\n",
      "system__Rainfall\n",
      "Max: 0.002101781778037548\n",
      "Min: -1.4371471479535103e-07\n",
      "Mean: 5.759214005991777e-06\n",
      "system__Runoff\n",
      "Max: 0.15757733492201936\n",
      "Min: -0.3157233694113738\n",
      "Mean: 0.00014277695200969165\n",
      "system__Evaporation_infiltration\n",
      "Max: 0.19761493935857288\n",
      "Min: -0.07110393809853122\n",
      "Mean: 0.003901756486905233\n"
     ]
    },
    {
     "data": {
      "image/png": "[encoded data removed]",
      "text/plain": [
       "<Figure size 1440x576 with 3 Axes>"
      ]
     },
     "metadata": {
      "needs_background": "light"
     },
     "output_type": "display_data"
    },
    {
     "name": "stdout",
     "output_type": "stream",
     "text": [
      "california\n",
      "system__Rainfall\n",
      "Max: 4.470348358154297e-08\n",
      "Min: -1.3830140233039856e-07\n",
      "Mean: -6.236613855485116e-10\n",
      "system__Runoff\n",
      "Max: 0.06305431577796664\n",
      "Min: -0.4263597296762966\n",
      "Mean: -0.0013915608473890175\n",
      "system__Evaporation_infiltration\n",
      "Max: 0.3822540359396953\n",
      "Min: -0.03848380414274288\n",
      "Mean: 0.0016743924531012503\n"
     ]
    },
    {
     "data": {
      "image/png": "[encoded data removed]",
      "text/plain": [
       "<Figure size 1440x576 with 3 Axes>"
      ]
     },
     "metadata": {
      "needs_background": "light"
     },
     "output_type": "display_data"
    }
   ],
   "source": [
    "for bg in ['chicago', 'california']:\n",
    "    print(bg)\n",
    "    name = bg[0].upper() + bg[1:]\n",
    "    \n",
    "    hourly = pd.read_pickle('./swmm_analysis/extracted_simulation_data/' + bg + '_3hr.pkl')\n",
    "    daily = pd.read_pickle('./swmm_analysis/extracted_simulation_data/' + bg + '_daily.pkl')\n",
    "    \n",
    "    difference = daily - hourly\n",
    "    difference = difference.resample('d').sum()\n",
    "    \n",
    "    for variable in ['system__Rainfall', 'system__Runoff', 'system__Evaporation_infiltration']:\n",
    "        print(variable)\n",
    "        print('Max:', difference[variable].max())\n",
    "        print('Min:', difference[variable].min())\n",
    "        print('Mean:', difference[variable].mean())\n",
    "        \n",
    "    \n",
    "    fig, axes = plt.subplots(nrows=1, ncols=3, figsize=(20, 8))\n",
    "\n",
    "    fig.suptitle(name, fontsize=18)\n",
    "\n",
    "    axes[0].set_title('Rainfall')\n",
    "    axes[0].set_ylabel('Difference (inches)')\n",
    "    axes[0].bar(date, difference['system__Rainfall'], width, label='Rainfall')\n",
    "    axes[0].set_xticks([0,31,59,90,120,151,181,212,243,273,304,334])\n",
    "    axes[0].set_xticklabels(calendar.month_name[1:13], rotation=-90)\n",
    "#     axes[0].legend()\n",
    "\n",
    "    axes[1].set_title('Runoff')\n",
    "    axes[1].bar(date, difference['system__Runoff'], width, label='Runoff')\n",
    "    axes[1].set_xticks([0,31,59,90,120,151,181,212,243,273,304,334])\n",
    "    axes[1].set_xticklabels(calendar.month_name[1:13], rotation=-90)\n",
    "#     axes[1].legend()\n",
    "\n",
    "    axes[2].set_title('Evaporation / Infiltration')\n",
    "    axes[2].bar(date, difference['system__Evaporation_infiltration'], width, label='Evaporation_infiltration')\n",
    "    axes[2].set_xticks([0,31,59,90,120,151,181,212,243,273,304,334])\n",
    "    axes[2].set_xticklabels(calendar.month_name[1:13], rotation=-90)\n",
    "#     axes[2].legend()\n",
    "    \n",
    "    plt.autoscale()\n",
    "\n",
    "    outfile = './swmm_analysis/plots/difference/' + bg + '_difference.svg'\n",
    "    plt.savefig(outfile)    \n",
    "    plt.show()\n"
   ]
  },
  {
   "cell_type": "code",
   "execution_count": null,
   "metadata": {},
   "outputs": [],
   "source": []
  }
 ],
 "metadata": {
  "kernelspec": {
   "display_name": "Python 3",
   "language": "python",
   "name": "python3"
  },
  "language_info": {
   "codemirror_mode": {
    "name": "ipython",
    "version": 3
   },
   "file_extension": ".py",
   "mimetype": "text/x-python",
   "name": "python",
   "nbconvert_exporter": "python",
   "pygments_lexer": "ipython3",
   "version": "3.7.4"
  }
 },
 "nbformat": 4,
 "nbformat_minor": 2
}
