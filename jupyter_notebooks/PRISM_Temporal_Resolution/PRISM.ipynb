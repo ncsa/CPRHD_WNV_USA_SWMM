{
 "cells": [
  {
   "cell_type": "markdown",
   "metadata": {},
   "source": [
    "## PRISM Temporal Resolution Investigation\n",
    "\n",
    "The daily temporal resolution of the PRISM dataset raises concerns because urban subcatchments have a very high response rate. [Lyu et. al write in their article](https://res.mdpi.com/water/water-10-00880/article_deploy/water-10-00880.pdf?filename=&attachment=1) that the **temporal resolution** of a precipitation dataset **has a larger effect** on hydrodynamic modeling **than spatial resolution** for subcatchments less than **10 square kilometers**.\n",
    "\n",
    "#### Checking our Subcatchment Area\n",
    "\n",
    "We will obtain a percentage of our subcatchment areas that are less than 10 square kilometers."
   ]
  },
  {
   "cell_type": "code",
   "execution_count": 2,
   "metadata": {},
   "outputs": [],
   "source": [
    "import pandas as pd"
   ]
  },
  {
   "cell_type": "code",
   "execution_count": 4,
   "metadata": {},
   "outputs": [],
   "source": [
    "bg_characteristics = pd.read_csv('../../data/input_file_data/Selected_BG_inputs_20191212.csv', low_memory=False)"
   ]
  },
  {
   "cell_type": "code",
   "execution_count": 6,
   "metadata": {},
   "outputs": [],
   "source": [
    "subcatchment_area = bg_characteristics['Area_acre_30m']\n",
    "subcatchment_area_square_km = subcatchment_area / 247.105"
   ]
  },
  {
   "cell_type": "code",
   "execution_count": 12,
   "metadata": {},
   "outputs": [],
   "source": [
    "vulnerable_subcatchments = subcatchment_area_square_km < 10"
   ]
  },
  {
   "cell_type": "code",
   "execution_count": 19,
   "metadata": {},
   "outputs": [
    {
     "name": "stdout",
     "output_type": "stream",
     "text": [
      "\n",
      "Mean subcatchment area in square kilometers: 1.1346910688757366\n",
      "Percentage of Subcatchments < 10 square kilometers: 99.74585108807503\n"
     ]
    }
   ],
   "source": [
    "print('\\nMean subcatchment area in square kilometers:', subcatchment_area_square_km.mean())\n",
    "value_counts = vulnerable_subcatchments.value_counts()\n",
    "print('Percentage of Subcatchments < 10 square kilometers:', value_counts[True] / (value_counts[True] + value_counts[False]) * 100)"
   ]
  },
  {
   "cell_type": "markdown",
   "metadata": {},
   "source": [
    "We see that the majority of our subcatchments have a small area. This is expected, as the county block groups have a very high spatial resolution.\n",
    "\n",
    "Therefore, the daily precipitation values of the PRISM dataset may introduce a large error."
   ]
  },
  {
   "cell_type": "markdown",
   "metadata": {},
   "source": [
    "## Disaggregation\n",
    "\n",
    "There are multiple methods to disaggregation of precipitation data. These can turn our daily data into hourly, or even finer, data."
   ]
  },
  {
   "cell_type": "code",
   "execution_count": null,
   "metadata": {},
   "outputs": [],
   "source": []
  }
 ],
 "metadata": {
  "kernelspec": {
   "display_name": "Python 3",
   "language": "python",
   "name": "python3"
  },
  "language_info": {
   "codemirror_mode": {
    "name": "ipython",
    "version": 3
   },
   "file_extension": ".py",
   "mimetype": "text/x-python",
   "name": "python",
   "nbconvert_exporter": "python",
   "pygments_lexer": "ipython3",
   "version": "3.7.5"
  }
 },
 "nbformat": 4,
 "nbformat_minor": 2
}
