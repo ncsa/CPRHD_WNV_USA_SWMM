{
 "cells": [
  {
   "cell_type": "markdown",
   "metadata": {},
   "source": [
    "# SWMM Green Infrastructure Project Documentation\n",
    "\n",
    "## Using SWMM\n",
    "\n",
    "We will show the process of running the simulations using the input files we generated.\n",
    "\n",
    "We will be using two key libraries: \n",
    "\n",
    "+ [PySWMM](https://github.com/OpenWaterAnalytics/pyswmm), a Python wrapper for the EPA's Storm Water Management Model\n",
    "\n",
    "+ [swmmtoolbox](https://github.com/timcera/swmmtoolbox), a tool used for extracting the binary simulation data created by PySWMM\n",
    "\n",
    "### 0) Preparation\n",
    "\n",
    "First, let's install those two libraries.\n",
    "\n"
   ]
  },
  {
   "cell_type": "code",
   "execution_count": 2,
   "metadata": {
    "collapsed": true
   },
   "outputs": [
    {
     "name": "stdout",
     "output_type": "stream",
     "text": [
      "Collecting pyswmm\n",
      "  Downloading https://files.pythonhosted.org/packages/48/ce/635d2ed364fc289ac0a9329748fc8f346119c71c77fa6c923d45f6398154/pyswmm-0.5.2-py2.py3-none-any.whl (1.3MB)\n",
      "Requirement already satisfied: six in c:\\users\\matas\\anaconda3\\lib\\site-packages (from pyswmm) (1.12.0)\n",
      "Installing collected packages: pyswmm\n",
      "Successfully installed pyswmm-0.5.2\n",
      "Note: you may need to restart the kernel to use updated packages.\n"
     ]
    }
   ],
   "source": [
    "pip install pyswmm\n"
   ]
  },
  {
   "cell_type": "code",
   "execution_count": 3,
   "metadata": {
    "collapsed": true
   },
   "outputs": [
    {
     "name": "stdout",
     "output_type": "stream",
     "text": [
      "Collecting swmmtoolbox\n",
      "  Downloading https://files.pythonhosted.org/packages/83/c4/5f23f819915de97855ea68d3ab4629c6810e49af48c06563bd643e6eed5f/swmmtoolbox-2.7.12.10.tar.gz\n",
      "Collecting tstoolbox>=1.12.12.9 (from swmmtoolbox)\n",
      "  Downloading https://files.pythonhosted.org/packages/f4/ec/01f724ce1287b0b6dd99b43fdb34778ba99a8a758c6d80645bd72793852e/tstoolbox-40.87.42.28.tar.gz (101kB)\n",
      "Requirement already satisfied: sphinx>=1.3 in c:\\users\\matas\\anaconda3\\lib\\site-packages (from swmmtoolbox) (2.1.2)\n",
      "Requirement already satisfied: future in c:\\users\\matas\\anaconda3\\lib\\site-packages (from swmmtoolbox) (0.17.1)\n",
      "Collecting dateparser (from tstoolbox>=1.12.12.9->swmmtoolbox)\n",
      "  Downloading https://files.pythonhosted.org/packages/82/9d/51126ac615bbc4418478d725a5fa1a0f112059f6f111e4b48cfbe17ef9d0/dateparser-0.7.2-py2.py3-none-any.whl (352kB)\n",
      "Collecting tabulate (from tstoolbox>=1.12.12.9->swmmtoolbox)\n",
      "  Downloading https://files.pythonhosted.org/packages/66/d4/977fdd5186b7cdbb7c43a7aac7c5e4e0337a84cb802e154616f3cfc84563/tabulate-0.8.5.tar.gz (45kB)\n",
      "Requirement already satisfied: docutils in c:\\users\\matas\\anaconda3\\lib\\site-packages (from tstoolbox>=1.12.12.9->swmmtoolbox) (0.14)\n",
      "Collecting mando>=0.4 (from tstoolbox>=1.12.12.9->swmmtoolbox)\n",
      "  Downloading https://files.pythonhosted.org/packages/e6/cc/f6e25247c1493a654785e68cd975e479c311e99dafedd49ed17f8d300e0c/mando-0.6.4-py2.py3-none-any.whl\n",
      "Collecting rst2ansi>=0.1.5 (from tstoolbox>=1.12.12.9->swmmtoolbox)\n",
      "  Downloading https://files.pythonhosted.org/packages/46/cb/fdb216f2b8bbec9c43655a79f2f280b2ba7822b2c8396ecceafa0c232320/rst2ansi-0.1.5-py3-none-any.whl\n",
      "Requirement already satisfied: python-dateutil>=2.1 in c:\\users\\matas\\anaconda3\\lib\\site-packages (from tstoolbox>=1.12.12.9->swmmtoolbox) (2.8.0)\n",
      "Requirement already satisfied: numpy in c:\\users\\matas\\anaconda3\\lib\\site-packages (from tstoolbox>=1.12.12.9->swmmtoolbox) (1.16.4)\n",
      "Requirement already satisfied: scipy in c:\\users\\matas\\anaconda3\\lib\\site-packages (from tstoolbox>=1.12.12.9->swmmtoolbox) (1.2.1)\n",
      "Requirement already satisfied: pandas in c:\\users\\matas\\anaconda3\\lib\\site-packages (from tstoolbox>=1.12.12.9->swmmtoolbox) (0.24.2)\n",
      "Collecting pint (from tstoolbox>=1.12.12.9->swmmtoolbox)\n",
      "  Downloading https://files.pythonhosted.org/packages/15/9d/bf177ebbc57d25e9e296addc14a1303d1e34d7964af5df428a8332349c42/Pint-0.9-py2.py3-none-any.whl (138kB)\n",
      "Requirement already satisfied: xlsxwriter in c:\\users\\matas\\anaconda3\\lib\\site-packages (from tstoolbox>=1.12.12.9->swmmtoolbox) (1.1.8)\n",
      "Collecting sklearn (from tstoolbox>=1.12.12.9->swmmtoolbox)\n",
      "  Downloading https://files.pythonhosted.org/packages/1e/7a/dbb3be0ce9bd5c8b7e3d87328e79063f8b263b2b1bfa4774cb1147bfcd3f/sklearn-0.0.tar.gz\n",
      "Requirement already satisfied: matplotlib in c:\\users\\matas\\anaconda3\\lib\\site-packages (from tstoolbox>=1.12.12.9->swmmtoolbox) (3.1.0)\n",
      "Requirement already satisfied: sphinxcontrib-devhelp in c:\\users\\matas\\anaconda3\\lib\\site-packages (from sphinx>=1.3->swmmtoolbox) (1.0.1)\n",
      "Requirement already satisfied: sphinxcontrib-htmlhelp in c:\\users\\matas\\anaconda3\\lib\\site-packages (from sphinx>=1.3->swmmtoolbox) (1.0.2)\n",
      "Requirement already satisfied: sphinxcontrib-applehelp in c:\\users\\matas\\anaconda3\\lib\\site-packages (from sphinx>=1.3->swmmtoolbox) (1.0.1)\n",
      "Requirement already satisfied: snowballstemmer>=1.1 in c:\\users\\matas\\anaconda3\\lib\\site-packages (from sphinx>=1.3->swmmtoolbox) (1.9.0)\n",
      "Requirement already satisfied: setuptools in c:\\users\\matas\\anaconda3\\lib\\site-packages (from sphinx>=1.3->swmmtoolbox) (41.0.1)\n",
      "Requirement already satisfied: packaging in c:\\users\\matas\\anaconda3\\lib\\site-packages (from sphinx>=1.3->swmmtoolbox) (19.0)\n",
      "Requirement already satisfied: Jinja2>=2.3 in c:\\users\\matas\\anaconda3\\lib\\site-packages (from sphinx>=1.3->swmmtoolbox) (2.10.1)\n",
      "Requirement already satisfied: sphinxcontrib-jsmath in c:\\users\\matas\\anaconda3\\lib\\site-packages (from sphinx>=1.3->swmmtoolbox) (1.0.1)\n",
      "Requirement already satisfied: alabaster<0.8,>=0.7 in c:\\users\\matas\\anaconda3\\lib\\site-packages (from sphinx>=1.3->swmmtoolbox) (0.7.12)\n",
      "Requirement already satisfied: sphinxcontrib-serializinghtml in c:\\users\\matas\\anaconda3\\lib\\site-packages (from sphinx>=1.3->swmmtoolbox) (1.1.3)\n",
      "Requirement already satisfied: sphinxcontrib-qthelp in c:\\users\\matas\\anaconda3\\lib\\site-packages (from sphinx>=1.3->swmmtoolbox) (1.0.2)\n",
      "Requirement already satisfied: babel!=2.0,>=1.3 in c:\\users\\matas\\anaconda3\\lib\\site-packages (from sphinx>=1.3->swmmtoolbox) (2.7.0)\n",
      "Requirement already satisfied: requests>=2.5.0 in c:\\users\\matas\\anaconda3\\lib\\site-packages (from sphinx>=1.3->swmmtoolbox) (2.22.0)\n",
      "Requirement already satisfied: Pygments>=2.0 in c:\\users\\matas\\anaconda3\\lib\\site-packages (from sphinx>=1.3->swmmtoolbox) (2.4.2)\n",
      "Requirement already satisfied: colorama>=0.3.5; sys_platform == \"win32\" in c:\\users\\matas\\anaconda3\\lib\\site-packages (from sphinx>=1.3->swmmtoolbox) (0.4.1)\n",
      "Requirement already satisfied: imagesize in c:\\users\\matas\\anaconda3\\lib\\site-packages (from sphinx>=1.3->swmmtoolbox) (1.1.0)\n",
      "Collecting regex (from dateparser->tstoolbox>=1.12.12.9->swmmtoolbox)\n",
      "  Downloading https://files.pythonhosted.org/packages/f1/2f/f586e982712ffee5681ca149d54480dbb04ff533e9e4638c5e28ae76bdb5/regex-2019.08.19-cp37-none-win_amd64.whl (325kB)\n",
      "Requirement already satisfied: pytz in c:\\users\\matas\\anaconda3\\lib\\site-packages (from dateparser->tstoolbox>=1.12.12.9->swmmtoolbox) (2019.1)\n",
      "Collecting tzlocal (from dateparser->tstoolbox>=1.12.12.9->swmmtoolbox)\n",
      "  Downloading https://files.pythonhosted.org/packages/ef/99/53bd1ac9349262f59c1c421d8fcc2559ae8a5eeffed9202684756b648d33/tzlocal-2.0.0-py2.py3-none-any.whl\n",
      "Requirement already satisfied: six in c:\\users\\matas\\anaconda3\\lib\\site-packages (from mando>=0.4->tstoolbox>=1.12.12.9->swmmtoolbox) (1.12.0)\n",
      "Requirement already satisfied: scikit-learn in c:\\users\\matas\\anaconda3\\lib\\site-packages (from sklearn->tstoolbox>=1.12.12.9->swmmtoolbox) (0.21.2)\n",
      "Requirement already satisfied: cycler>=0.10 in c:\\users\\matas\\anaconda3\\lib\\site-packages (from matplotlib->tstoolbox>=1.12.12.9->swmmtoolbox) (0.10.0)\n",
      "Requirement already satisfied: kiwisolver>=1.0.1 in c:\\users\\matas\\anaconda3\\lib\\site-packages (from matplotlib->tstoolbox>=1.12.12.9->swmmtoolbox) (1.1.0)\n",
      "Requirement already satisfied: pyparsing!=2.0.4,!=2.1.2,!=2.1.6,>=2.0.1 in c:\\users\\matas\\anaconda3\\lib\\site-packages (from matplotlib->tstoolbox>=1.12.12.9->swmmtoolbox) (2.4.0)\n",
      "Requirement already satisfied: MarkupSafe>=0.23 in c:\\users\\matas\\anaconda3\\lib\\site-packages (from Jinja2>=2.3->sphinx>=1.3->swmmtoolbox) (1.1.1)\n",
      "Requirement already satisfied: certifi>=2017.4.17 in c:\\users\\matas\\anaconda3\\lib\\site-packages (from requests>=2.5.0->sphinx>=1.3->swmmtoolbox) (2019.6.16)\n",
      "Requirement already satisfied: urllib3!=1.25.0,!=1.25.1,<1.26,>=1.21.1 in c:\\users\\matas\\anaconda3\\lib\\site-packages (from requests>=2.5.0->sphinx>=1.3->swmmtoolbox) (1.24.2)\n",
      "Requirement already satisfied: chardet<3.1.0,>=3.0.2 in c:\\users\\matas\\anaconda3\\lib\\site-packages (from requests>=2.5.0->sphinx>=1.3->swmmtoolbox) (3.0.4)\n",
      "Requirement already satisfied: idna<2.9,>=2.5 in c:\\users\\matas\\anaconda3\\lib\\site-packages (from requests>=2.5.0->sphinx>=1.3->swmmtoolbox) (2.8)\n",
      "Requirement already satisfied: joblib>=0.11 in c:\\users\\matas\\anaconda3\\lib\\site-packages (from scikit-learn->sklearn->tstoolbox>=1.12.12.9->swmmtoolbox) (0.13.2)\n",
      "Building wheels for collected packages: swmmtoolbox, tstoolbox, tabulate, sklearn\n",
      "  Building wheel for swmmtoolbox (setup.py): started\n",
      "  Building wheel for swmmtoolbox (setup.py): finished with status 'done'\n",
      "  Stored in directory: C:\\Users\\matas\\AppData\\Local\\pip\\Cache\\wheels\\23\\d1\\b3\\c7600b427acd1dab9cc2863adc7c88583b7d42778d58ad0cb2\n",
      "  Building wheel for tstoolbox (setup.py): started\n",
      "  Building wheel for tstoolbox (setup.py): finished with status 'done'\n",
      "  Stored in directory: C:\\Users\\matas\\AppData\\Local\\pip\\Cache\\wheels\\47\\bf\\0a\\fff5ee5f29a19b745bf26357791b71f36995134baff31d80ac\n",
      "  Building wheel for tabulate (setup.py): started\n",
      "  Building wheel for tabulate (setup.py): finished with status 'done'\n",
      "  Stored in directory: C:\\Users\\matas\\AppData\\Local\\pip\\Cache\\wheels\\e1\\41\\5e\\e201f95d90fc84f93aa629b6638adacda680fe63aac47174ab\n",
      "  Building wheel for sklearn (setup.py): started\n",
      "  Building wheel for sklearn (setup.py): finished with status 'done'\n",
      "  Stored in directory: C:\\Users\\matas\\AppData\\Local\\pip\\Cache\\wheels\\76\\03\\bb\\589d421d27431bcd2c6da284d5f2286c8e3b2ea3cf1594c074\n",
      "Successfully built swmmtoolbox tstoolbox tabulate sklearn\n",
      "Installing collected packages: regex, tzlocal, dateparser, tabulate, mando, rst2ansi, pint, sklearn, tstoolbox, swmmtoolbox\n",
      "Successfully installed dateparser-0.7.2 mando-0.6.4 pint-0.9 regex-2019.8.19 rst2ansi-0.1.5 sklearn-0.0 swmmtoolbox-2.7.12.10 tabulate-0.8.5 tstoolbox-40.87.42.28 tzlocal-2.0.0\n",
      "Note: you may need to restart the kernel to use updated packages.\n"
     ]
    }
   ],
   "source": [
    "pip install swmmtoolbox"
   ]
  },
  {
   "cell_type": "markdown",
   "metadata": {},
   "source": [
    "**LibSWMM**"
   ]
  },
  {
   "cell_type": "markdown",
   "metadata": {},
   "source": [
    "### 1) Imports\n",
    "\n",
    "Let's import the functions we'll be using from these newly installed libraries, as well as some additional libraries."
   ]
  },
  {
   "cell_type": "code",
   "execution_count": 8,
   "metadata": {},
   "outputs": [],
   "source": [
    "from pyswmm import Simulation\n",
    "from swmmtoolbox import swmmtoolbox\n",
    "\n",
    "import glob\n",
    "import pandas as pd\n",
    "from multiprocessing import Pool # multi-threading\n",
    "import time # time analysis"
   ]
  },
  {
   "cell_type": "markdown",
   "metadata": {},
   "source": [
    "### 2) Supressing Simulation Screen Output\n",
    "\n",
    "Since pyswmm's Simulation function prints to the screen for user experience, it can slow down the processing speed, especially when multi-threading, since each thread will try to print to the screen simultaneously.\n",
    "\n",
    "We will define a function to redirect the function's stdout to a null variable."
   ]
  },
  {
   "cell_type": "code",
   "execution_count": 11,
   "metadata": {},
   "outputs": [],
   "source": [
    "import os\n",
    "import sys\n",
    "def supress_output(function):\n",
    "    def wrapper(*args, **kwargs):\n",
    "        with open(os.devnull, 'w') as devNull:\n",
    "            original = sys.stdout\n",
    "            sys.stdout = devNull\n",
    "            function(*args, **args)\n",
    "            sys.stdout = original\n",
    "    \n",
    "    return wrapper"
   ]
  },
  {
   "cell_type": "markdown",
   "metadata": {},
   "source": [
    "### 3) Running the Simulation\n",
    "\n",
    "We are now ready to run the simulation. This test will just run one simulation, but you can modify it to run all of them. "
   ]
  },
  {
   "cell_type": "code",
   "execution_count": null,
   "metadata": {},
   "outputs": [],
   "source": [
    "input_files = glob.glob('../data/input_files/no_green_infrastructure/*.inp')\n",
    "\n",
    "Simulation.execute = supress_output(Simulation.execute)\n",
    "with Simulation(input_files[0]) as sim:\n",
    "    print(input_files[0])\n",
    "    sim.execute()\n",
    "    sim.close()"
   ]
  },
  {
   "cell_type": "code",
   "execution_count": null,
   "metadata": {},
   "outputs": [],
   "source": []
  }
 ],
 "metadata": {
  "kernelspec": {
   "display_name": "Python 3",
   "language": "python",
   "name": "python3"
  },
  "language_info": {
   "codemirror_mode": {
    "name": "ipython",
    "version": 3
   },
   "file_extension": ".py",
   "mimetype": "text/x-python",
   "name": "python",
   "nbconvert_exporter": "python",
   "pygments_lexer": "ipython3",
   "version": "3.7.3"
  }
 },
 "nbformat": 4,
 "nbformat_minor": 2
}
